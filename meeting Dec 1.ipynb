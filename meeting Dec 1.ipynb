{
 "cells": [
  {
   "cell_type": "code",
   "execution_count": 1,
   "metadata": {
    "collapsed": true
   },
   "outputs": [],
   "source": [
    "import sys"
   ]
  },
  {
   "cell_type": "code",
   "execution_count": 2,
   "metadata": {
    "collapsed": false
   },
   "outputs": [],
   "source": [
    "sys.path.append('/Users/dorofeefff/Documents/qqmbr/qqmbr/')"
   ]
  },
  {
   "cell_type": "code",
   "execution_count": 3,
   "metadata": {
    "collapsed": false
   },
   "outputs": [],
   "source": [
    "import ml"
   ]
  },
  {
   "cell_type": "code",
   "execution_count": 4,
   "metadata": {
    "collapsed": false
   },
   "outputs": [],
   "source": [
    "from ml import QqParser"
   ]
  },
  {
   "cell_type": "code",
   "execution_count": 5,
   "metadata": {
    "collapsed": false
   },
   "outputs": [],
   "source": [
    "from qqlatex import QqLaTeXFormatter"
   ]
  },
  {
   "cell_type": "code",
   "execution_count": 6,
   "metadata": {
    "collapsed": true
   },
   "outputs": [],
   "source": [
    "from ml import QqParser"
   ]
  },
  {
   "cell_type": "code",
   "execution_count": 7,
   "metadata": {
    "collapsed": false
   },
   "outputs": [],
   "source": [
    "formatter = QqLaTeXFormatter()"
   ]
  },
  {
   "cell_type": "code",
   "execution_count": 8,
   "metadata": {
    "collapsed": true
   },
   "outputs": [],
   "source": [
    "parser = QqParser(allowed_tags=formatter.uses_tags())"
   ]
  },
  {
   "cell_type": "code",
   "execution_count": 9,
   "metadata": {
    "collapsed": false
   },
   "outputs": [
    {
     "data": {
      "text/plain": [
       "{'begin_end',\n",
       " 'corollary',\n",
       " 'definition',\n",
       " 'empty',\n",
       " 'eq',\n",
       " 'example',\n",
       " 'exercise',\n",
       " 'h1',\n",
       " 'h2',\n",
       " 'h3',\n",
       " 'h4',\n",
       " 'label',\n",
       " 'lemma',\n",
       " 'paragraph',\n",
       " 'proposition',\n",
       " 'question',\n",
       " 'remark',\n",
       " 'simple',\n",
       " 'theorem'}"
      ]
     },
     "execution_count": 9,
     "metadata": {},
     "output_type": "execute_result"
    }
   ],
   "source": [
    "formatter.uses_tags()"
   ]
  },
  {
   "cell_type": "code",
   "execution_count": 10,
   "metadata": {
    "collapsed": false
   },
   "outputs": [
    {
     "data": {
      "text/plain": [
       "{'begin_end',\n",
       " 'corollary',\n",
       " 'definition',\n",
       " 'empty',\n",
       " 'eq',\n",
       " 'example',\n",
       " 'exercise',\n",
       " 'h1',\n",
       " 'h2',\n",
       " 'h3',\n",
       " 'h4',\n",
       " 'label',\n",
       " 'lemma',\n",
       " 'paragraph',\n",
       " 'proposition',\n",
       " 'question',\n",
       " 'remark',\n",
       " 'simple',\n",
       " 'theorem'}"
      ]
     },
     "execution_count": 10,
     "metadata": {},
     "output_type": "execute_result"
    }
   ],
   "source": [
    "formatter.uses_tags()"
   ]
  },
  {
   "cell_type": "code",
   "execution_count": 11,
   "metadata": {
    "collapsed": true
   },
   "outputs": [],
   "source": [
    "lines = r\"\"\"\n",
    "\\h1 \\label no label\n",
    "\"\"\"\n",
    "root = parser.parse(lines.splitlines())"
   ]
  },
  {
   "cell_type": "code",
   "execution_count": 23,
   "metadata": {
    "collapsed": true
   },
   "outputs": [],
   "source": [
    "lines = r\"\"\"\n",
    "\\h1\n",
    "\"\"\"\n",
    "root = parser.parse(lines.splitlines())"
   ]
  },
  {
   "cell_type": "code",
   "execution_count": 26,
   "metadata": {
    "collapsed": true
   },
   "outputs": [],
   "source": [
    "lines = r\"\"\"\n",
    "\\h1\n",
    "\\example\n",
    "    Раз-два-три-четыре пять.\n",
    "\n",
    "Здесь будет **проверка** *Markdown*.\n",
    "\n",
    "\\theorem \\label 2x2\n",
    "    Дважды два — четыре.\n",
    "\\proof \\outline | \\of теоремы \\ref{2x2}\n",
    "    Действительно, по определению,\n",
    "    \\equation \\label eq:2x2\n",
    "        2 = 1 + 1,\n",
    "    и по правилу раскрытия скобок из \\eqref{eq:2x2} следует, что\n",
    "    \\eq \n",
    "        (1+1)\\times (1+1) = 1\\times (1+1) + 1\\times(1+1) = 1 + 1 + 1 + 1 = 4\n",
    "    Вот, собственно, и всё.\n",
    "\"\"\"\n",
    "root = parser.parse(lines.splitlines())"
   ]
  },
  {
   "cell_type": "code",
   "execution_count": 27,
   "metadata": {
    "collapsed": true
   },
   "outputs": [],
   "source": [
    "formatter.root = root"
   ]
  },
  {
   "cell_type": "code",
   "execution_count": 28,
   "metadata": {
    "collapsed": false
   },
   "outputs": [
    {
     "name": "stdout",
     "output_type": "stream",
     "text": [
      "\n",
      "\\{section}\n",
      "\n",
      "\n",
      "\\begin{example}\n",
      "Раз-два-три-четыре пять.\n",
      "\\end{example}\n",
      "Здесь будет **проверка** *Markdown*.\n",
      "\\begin{theorem} \\label{2x2}\n",
      "Дважды два — четыре.\n",
      "\\end{theorem}\n",
      "\\proof \\outline | \\of теоремы \\ref{2x2}    Действительно, по определению,    \\equation \\label eq:2x2        2 = 1 + 1,    и по правилу раскрытия скобок из \\eqref{eq:2x2} следует, что\n",
      "$$(1+1)\\times (1+1) = 1\\times (1+1) + 1\\times(1+1) = 1 + 1 + 1 + 1 = 4$$\n",
      "Вот, собственно, и всё.\n"
     ]
    }
   ],
   "source": [
    "print(formatter.do_format())"
   ]
  },
  {
   "cell_type": "code",
   "execution_count": 16,
   "metadata": {
    "collapsed": false
   },
   "outputs": [
    {
     "data": {
      "text/plain": [
       "['_root', ['h1', 'what']]"
      ]
     },
     "execution_count": 16,
     "metadata": {},
     "output_type": "execute_result"
    }
   ],
   "source": [
    "root.as_list()"
   ]
  },
  {
   "cell_type": "code",
   "execution_count": 17,
   "metadata": {
    "collapsed": false
   },
   "outputs": [
    {
     "data": {
      "text/plain": [
       "'fdsfsd'"
      ]
     },
     "execution_count": 17,
     "metadata": {},
     "output_type": "execute_result"
    }
   ],
   "source": [
    "'\\label fdsfsd'.split('\\label ')[1]"
   ]
  },
  {
   "cell_type": "code",
   "execution_count": 18,
   "metadata": {
    "collapsed": false
   },
   "outputs": [
    {
     "name": "stdout",
     "output_type": "stream",
     "text": [
      "votetoda\n"
     ]
    }
   ],
   "source": [
    "s = 'jjjojjj'\n",
    "if s.find('o'):\n",
    "    print('votetoda')"
   ]
  },
  {
   "cell_type": "code",
   "execution_count": 19,
   "metadata": {
    "collapsed": false
   },
   "outputs": [],
   "source": [
    "tag_to_latex = {'h1':'section', 'h2':'subsection',\n",
    "                             'h3':'subsubsection', 'h4':'paragraph'}"
   ]
  },
  {
   "cell_type": "code",
   "execution_count": 20,
   "metadata": {
    "collapsed": false
   },
   "outputs": [
    {
     "data": {
      "text/plain": [
       "'subsection'"
      ]
     },
     "execution_count": 20,
     "metadata": {},
     "output_type": "execute_result"
    }
   ],
   "source": [
    "tag_to_latex['h2']"
   ]
  },
  {
   "cell_type": "code",
   "execution_count": 21,
   "metadata": {
    "collapsed": false
   },
   "outputs": [
    {
     "name": "stdout",
     "output_type": "stream",
     "text": [
      "{h1 : ['what']}\n",
      "what\n"
     ]
    }
   ],
   "source": [
    "print(root[0])\n",
    "print(root[0][0])"
   ]
  },
  {
   "cell_type": "code",
   "execution_count": null,
   "metadata": {
    "collapsed": true
   },
   "outputs": [],
   "source": []
  },
  {
   "cell_type": "code",
   "execution_count": 22,
   "metadata": {
    "collapsed": false
   },
   "outputs": [
    {
     "ename": "NameError",
     "evalue": "name 'uses' is not defined",
     "output_type": "error",
     "traceback": [
      "\u001b[0;31m---------------------------------------------------------------------------\u001b[0m",
      "\u001b[0;31mNameError\u001b[0m                                 Traceback (most recent call last)",
      "\u001b[0;32m<ipython-input-22-261334df0307>\u001b[0m in \u001b[0;36m<module>\u001b[0;34m()\u001b[0m\n\u001b[0;32m----> 1\u001b[0;31m \u001b[0muses\u001b[0m\u001b[0;34m.\u001b[0m\u001b[0mtags\u001b[0m\u001b[0;34m(\u001b[0m\u001b[0;34m)\u001b[0m\u001b[0;34m\u001b[0m\u001b[0m\n\u001b[0m",
      "\u001b[0;31mNameError\u001b[0m: name 'uses' is not defined"
     ]
    }
   ],
   "source": [
    "uses.tags()"
   ]
  },
  {
   "cell_type": "code",
   "execution_count": null,
   "metadata": {
    "collapsed": false
   },
   "outputs": [],
   "source": [
    "tag = formatter.root"
   ]
  },
  {
   "cell_type": "code",
   "execution_count": null,
   "metadata": {
    "collapsed": false
   },
   "outputs": [],
   "source": [
    "print(tag.find('label'))"
   ]
  },
  {
   "cell_type": "code",
   "execution_count": null,
   "metadata": {
    "collapsed": false
   },
   "outputs": [],
   "source": [
    "tag[0].child"
   ]
  },
  {
   "cell_type": "code",
   "execution_count": null,
   "metadata": {
    "collapsed": false
   },
   "outputs": [],
   "source": [
    "QqLaTeXFormatter.handle_empty(root,'\\label')"
   ]
  },
  {
   "cell_type": "code",
   "execution_count": null,
   "metadata": {
    "collapsed": false
   },
   "outputs": [],
   "source": [
    "'label' in tag_to_latex"
   ]
  },
  {
   "cell_type": "code",
   "execution_count": null,
   "metadata": {
    "collapsed": true
   },
   "outputs": [],
   "source": [
    "tag_to_latex = {'h1':'section', 'h2':'subsection',\n",
    "                                 'h3':'subsubsection', 'h4':'paragraph',\n",
    "                                 'paragraph':'paragraph'}"
   ]
  },
  {
   "cell_type": "code",
   "execution_count": null,
   "metadata": {
    "collapsed": true
   },
   "outputs": [],
   "source": [
    "root.find('label')"
   ]
  },
  {
   "cell_type": "code",
   "execution_count": null,
   "metadata": {
    "collapsed": false
   },
   "outputs": [],
   "source": [
    "root"
   ]
  },
  {
   "cell_type": "code",
   "execution_count": null,
   "metadata": {
    "collapsed": false
   },
   "outputs": [],
   "source": [
    "root[0].child"
   ]
  },
  {
   "cell_type": "code",
   "execution_count": null,
   "metadata": {
    "collapsed": false
   },
   "outputs": [],
   "source": [
    "print(root[0].find('label')[0])"
   ]
  },
  {
   "cell_type": "code",
   "execution_count": null,
   "metadata": {
    "collapsed": true
   },
   "outputs": [],
   "source": []
  }
 ],
 "metadata": {
  "kernelspec": {
   "display_name": "Python 3",
   "language": "python",
   "name": "python3"
  },
  "language_info": {
   "codemirror_mode": {
    "name": "ipython",
    "version": 3
   },
   "file_extension": ".py",
   "mimetype": "text/x-python",
   "name": "python",
   "nbconvert_exporter": "python",
   "pygments_lexer": "ipython3",
   "version": "3.5.1"
  }
 },
 "nbformat": 4,
 "nbformat_minor": 0
}
